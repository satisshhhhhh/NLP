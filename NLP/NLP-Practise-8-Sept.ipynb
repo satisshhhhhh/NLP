{
 "cells": [
  {
   "cell_type": "code",
   "execution_count": 2,
   "id": "db105331",
   "metadata": {},
   "outputs": [
    {
     "name": "stderr",
     "output_type": "stream",
     "text": [
      "[nltk_data] Downloading package conll2000 to\n",
      "[nltk_data]     C:\\Users\\Admin\\AppData\\Roaming\\nltk_data...\n",
      "[nltk_data]   Package conll2000 is already up-to-date!\n"
     ]
    },
    {
     "data": {
      "text/plain": [
       "True"
      ]
     },
     "execution_count": 2,
     "metadata": {},
     "output_type": "execute_result"
    }
   ],
   "source": [
    "import nltk\n",
    "nltk.download('conll2000')"
   ]
  },
  {
   "cell_type": "code",
   "execution_count": 11,
   "id": "5e2b1bbc",
   "metadata": {},
   "outputs": [
    {
     "name": "stdout",
     "output_type": "stream",
     "text": [
      "ChunkParse score:\n",
      "    IOB Accuracy:  43.4%%\n",
      "    Precision:      0.0%%\n",
      "    Recall:         0.0%%\n",
      "    F-Measure:      0.0%%\n"
     ]
    }
   ],
   "source": [
    "from nltk.corpus import conll2000\n",
    "cp= nltk.RegexpParser(\"\")\n",
    "test_sents=conll2000.chunked_sents('test.txt',chunk_types=['NP'])\n",
    "print(cp.accuracy(test_sents))"
   ]
  },
  {
   "cell_type": "code",
   "execution_count": 12,
   "id": "ea68f1a3",
   "metadata": {},
   "outputs": [
    {
     "name": "stdout",
     "output_type": "stream",
     "text": [
      "ChunkParse score:\n",
      "    IOB Accuracy:  87.7%%\n",
      "    Precision:     70.6%%\n",
      "    Recall:        67.8%%\n",
      "    F-Measure:     69.2%%\n"
     ]
    }
   ],
   "source": [
    "grammar=r\"NP: {<[CDJNP].*>+}\"\n",
    "cp = nltk.RegexpParser(grammar)\n",
    "print(cp.accuracy(test_sents))"
   ]
  },
  {
   "cell_type": "code",
   "execution_count": 13,
   "id": "0b545755",
   "metadata": {},
   "outputs": [],
   "source": [
    "# Unigram taggers\n",
    "class UnigramChunker(nltk.ChunkParserI):\n",
    "    def __init__(self,train_sents):\n",
    "        train_data=[[(t,c) for w,t,c in nltk.chunk.tree2conlltags(sent)] for sent in train_sents]\n",
    "        self.tagger = nltk.UnigramTagger(train_data)\n",
    "    def parse(self,sentence):\n",
    "        pos_tags=[pos for (word,pos) in sentence]\n",
    "        tagged_pos_tags=self.tagger.tag(pos_tags)\n",
    "        chunktags=[chunktag for (pos,chunktag) in tagged_pos_tags]\n",
    "        conlltags=[(word,pos,chunktag) for ((word,pos),chunktag) in zip(sentence, chunktags)]\n",
    "        return nltk.chunk.conlltags2tree(conlltags)"
   ]
  },
  {
   "cell_type": "code",
   "execution_count": 14,
   "id": "66e2c73d",
   "metadata": {},
   "outputs": [
    {
     "name": "stdout",
     "output_type": "stream",
     "text": [
      "ChunkParse score:\n",
      "    IOB Accuracy:  92.9%%\n",
      "    Precision:     79.9%%\n",
      "    Recall:        86.8%%\n",
      "    F-Measure:     83.2%%\n"
     ]
    }
   ],
   "source": [
    "test_sents=conll2000.chunked_sents('test.txt',chunk_types=['NP'])\n",
    "train_sents=conll2000.chunked_sents('train.txt',chunk_types=['NP'])\n",
    "unigram_chunker=UnigramChunker(train_sents)\n",
    "print(unigram_chunker.accuracy(test_sents))"
   ]
  },
  {
   "cell_type": "code",
   "execution_count": 15,
   "id": "87f4c239",
   "metadata": {},
   "outputs": [
    {
     "name": "stdout",
     "output_type": "stream",
     "text": [
      "[('#', 'B-NP'), ('$', 'B-NP'), (\"''\", 'O'), ('(', 'O'), (')', 'O'), (',', 'O'), ('.', 'O'), (':', 'O'), ('CC', 'O'), ('CD', 'I-NP'), ('DT', 'B-NP'), ('EX', 'B-NP'), ('FW', 'I-NP'), ('IN', 'O'), ('JJ', 'I-NP'), ('JJR', 'B-NP'), ('JJS', 'I-NP'), ('MD', 'O'), ('NN', 'I-NP'), ('NNP', 'I-NP'), ('NNPS', 'I-NP'), ('NNS', 'I-NP'), ('PDT', 'B-NP'), ('POS', 'B-NP'), ('PRP', 'B-NP'), ('PRP$', 'B-NP'), ('RB', 'O'), ('RBR', 'O'), ('RBS', 'B-NP'), ('RP', 'O'), ('SYM', 'O'), ('TO', 'O'), ('UH', 'O'), ('VB', 'O'), ('VBD', 'O'), ('VBG', 'O'), ('VBN', 'O'), ('VBP', 'O'), ('VBZ', 'O'), ('WDT', 'B-NP'), ('WP', 'B-NP'), ('WP$', 'B-NP'), ('WRB', 'O'), ('``', 'O')]\n"
     ]
    }
   ],
   "source": [
    "postags=sorted(set(pos for sent  in train_sents for (word,pos) in sent.leaves()))\n",
    "print(unigram_chunker.tagger.tag(postags))"
   ]
  },
  {
   "cell_type": "code",
   "execution_count": 16,
   "id": "89200807",
   "metadata": {},
   "outputs": [
    {
     "name": "stdout",
     "output_type": "stream",
     "text": [
      "ChunkParse score:\n",
      "    IOB Accuracy:  93.3%%\n",
      "    Precision:     82.3%%\n",
      "    Recall:        86.8%%\n",
      "    F-Measure:     84.5%%\n"
     ]
    }
   ],
   "source": [
    "class BigramChunker(nltk.ChunkParserI):\n",
    "    def __init__(self,train_sents):\n",
    "        train_data=[[(t,c) for w,t,c in nltk.chunk.tree2conlltags(sent)] for sent in train_sents]\n",
    "        self.tagger = nltk.BigramTagger(train_data)\n",
    "    def parse(self,sentence):\n",
    "        pos_tags=[pos for (word,pos) in sentence]\n",
    "        tagged_pos_tags=self.tagger.tag(pos_tags)\n",
    "        chunktags=[chunktag for (pos,chunktag) in tagged_pos_tags]\n",
    "        conlltags=[(word,pos,chunktag) for ((word,pos),chunktag) in zip(sentence, chunktags)]\n",
    "        return nltk.chunk.conlltags2tree(conlltags)\n",
    "\n",
    "\n",
    "test_sents=conll2000.chunked_sents('test.txt',chunk_types=['NP'])\n",
    "train_sents=conll2000.chunked_sents('train.txt',chunk_types=['NP'])\n",
    "bigram_chunker=BigramChunker(train_sents)\n",
    "print(bigram_chunker.accuracy(test_sents))"
   ]
  },
  {
   "cell_type": "code",
   "execution_count": 20,
   "id": "af6dec52",
   "metadata": {},
   "outputs": [],
   "source": [
    "class ConsecutiveNPChunkTagger(nltk.TaggerI):\n",
    "    def __init__(self,train_sents):\n",
    "        train_set=[]\n",
    "        for tagged_sent in train_sents:\n",
    "            untagged_sent=nltk.tag.untag(tagged_sent)\n",
    "            history=[]\n",
    "            for i, (word,tag) in enumerate(tagged_sent):\n",
    "                featureset = npchunk_features(untagged_sent,i,history)\n",
    "                train_set.append((featureset,tag))\n",
    "                history.append(tag)\n",
    "        self.classifier=nltk.MaxentClassifier.train(train_set,algorithm='megam',trace=0)\n",
    "    def tag(self,sentence):\n",
    "        history=[]\n",
    "        for i , word in enumerate(sentence):\n",
    "            featureset = npchunk_features(sentence,i,history)\n",
    "            tag = self.classifier.classify(featureset)\n",
    "            history.append(tag)\n",
    "        return zip(sentence,history)"
   ]
  },
  {
   "cell_type": "code",
   "execution_count": 25,
   "id": "a68182a6",
   "metadata": {},
   "outputs": [],
   "source": [
    "class ConsecutiveNPChunker(nltk.ChunkParserI):\n",
    "    def __init__(self,train_sents):\n",
    "        tagged_sents = [[((w,t),c) for (w,t,c) in nltk.chunk.tree2conlltags(sent)] for sent in trian_sents]\n",
    "        self.tagger= ConsecutiveNPChunkTagger(tagged_sents)\n",
    "    def parse(self,sentence):\n",
    "        tagged_sents=self.tagger.tag(sentence)\n",
    "        conlltags=[(w,t,c) for ((w,t),c) in tagged_sents]\n",
    "        return nltk.chunk.conlltags2tree(conlltags)"
   ]
  },
  {
   "cell_type": "code",
   "execution_count": 27,
   "id": "cfc1babc",
   "metadata": {},
   "outputs": [
    {
     "ename": "NameError",
     "evalue": "name 'trian_sents' is not defined",
     "output_type": "error",
     "traceback": [
      "\u001b[1;31m---------------------------------------------------------------------------\u001b[0m",
      "\u001b[1;31mNameError\u001b[0m                                 Traceback (most recent call last)",
      "Input \u001b[1;32mIn [27]\u001b[0m, in \u001b[0;36m<cell line: 4>\u001b[1;34m()\u001b[0m\n\u001b[0;32m      2\u001b[0m   word,pos\u001b[38;5;241m=\u001b[39msentence[i]\n\u001b[0;32m      3\u001b[0m   \u001b[38;5;28;01mreturn\u001b[39;00m {\u001b[38;5;124m'\u001b[39m\u001b[38;5;124mpos\u001b[39m\u001b[38;5;124m'\u001b[39m : pos}\n\u001b[1;32m----> 4\u001b[0m chunker \u001b[38;5;241m=\u001b[39m \u001b[43mConsecutiveNPChunker\u001b[49m\u001b[43m(\u001b[49m\u001b[43mtrain_sents\u001b[49m\u001b[43m)\u001b[49m\n\u001b[0;32m      5\u001b[0m \u001b[38;5;28mprint\u001b[39m(chunker\u001b[38;5;241m.\u001b[39maccuracy(test_sents))\n",
      "Input \u001b[1;32mIn [25]\u001b[0m, in \u001b[0;36mConsecutiveNPChunker.__init__\u001b[1;34m(self, train_sents)\u001b[0m\n\u001b[0;32m      2\u001b[0m \u001b[38;5;28;01mdef\u001b[39;00m \u001b[38;5;21m__init__\u001b[39m(\u001b[38;5;28mself\u001b[39m,train_sents):\n\u001b[1;32m----> 3\u001b[0m     tagged_sents \u001b[38;5;241m=\u001b[39m [[((w,t),c) \u001b[38;5;28;01mfor\u001b[39;00m (w,t,c) \u001b[38;5;129;01min\u001b[39;00m nltk\u001b[38;5;241m.\u001b[39mchunk\u001b[38;5;241m.\u001b[39mtree2conlltags(sent)] \u001b[38;5;28;01mfor\u001b[39;00m sent \u001b[38;5;129;01min\u001b[39;00m \u001b[43mtrian_sents\u001b[49m]\n\u001b[0;32m      4\u001b[0m     \u001b[38;5;28mself\u001b[39m\u001b[38;5;241m.\u001b[39mtagger\u001b[38;5;241m=\u001b[39m ConsecutiveNPChunkTagger(tagged_sents)\n",
      "\u001b[1;31mNameError\u001b[0m: name 'trian_sents' is not defined"
     ]
    }
   ],
   "source": [
    "def npchunk_features(sentence,i,history):\n",
    "  word,pos=sentence[i]\n",
    "  return {'pos' : pos}\n",
    "chunker = ConsecutiveNPChunker(train_sents)\n",
    "print(chunker.accuracy(test_sents))"
   ]
  },
  {
   "cell_type": "code",
   "execution_count": null,
   "id": "7ae53528",
   "metadata": {},
   "outputs": [],
   "source": []
  }
 ],
 "metadata": {
  "kernelspec": {
   "display_name": "Python 3 (ipykernel)",
   "language": "python",
   "name": "python3"
  },
  "language_info": {
   "codemirror_mode": {
    "name": "ipython",
    "version": 3
   },
   "file_extension": ".py",
   "mimetype": "text/x-python",
   "name": "python",
   "nbconvert_exporter": "python",
   "pygments_lexer": "ipython3",
   "version": "3.9.12"
  }
 },
 "nbformat": 4,
 "nbformat_minor": 5
}
