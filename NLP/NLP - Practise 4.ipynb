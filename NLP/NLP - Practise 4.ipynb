{
 "cells": [
  {
   "cell_type": "code",
   "execution_count": 9,
   "id": "07b04fad",
   "metadata": {},
   "outputs": [
    {
     "data": {
      "text/plain": [
       "{'last_letter': 'k'}"
      ]
     },
     "execution_count": 9,
     "metadata": {},
     "output_type": "execute_result"
    }
   ],
   "source": [
    "def gender_features(word):\n",
    "    return {'last_letter' : word[-1]}\n",
    "gender_features('Shrek')"
   ]
  },
  {
   "cell_type": "code",
   "execution_count": 18,
   "id": "d86e9f6e",
   "metadata": {},
   "outputs": [],
   "source": [
    "import nltk\n",
    "from nltk.corpus import names\n",
    "labeled_names = ([(name, 'male') for name in names.words('male.txt')] +\n",
    "[(name, 'female') for name in names.words('female.txt')])"
   ]
  },
  {
   "cell_type": "code",
   "execution_count": 19,
   "id": "2de68732",
   "metadata": {},
   "outputs": [],
   "source": [
    "import random\n",
    "random.shuffle(labeled_names)"
   ]
  },
  {
   "cell_type": "code",
   "execution_count": 20,
   "id": "b0b45891",
   "metadata": {},
   "outputs": [],
   "source": [
    "featuresets = [(gender_features(n), gender) for (n, gender) in labeled_names]"
   ]
  },
  {
   "cell_type": "code",
   "execution_count": 21,
   "id": "cb77b44a",
   "metadata": {},
   "outputs": [],
   "source": [
    "train_set, test_set = featuresets[500:], featuresets[:500]"
   ]
  },
  {
   "cell_type": "code",
   "execution_count": 22,
   "id": "3f271b5d",
   "metadata": {},
   "outputs": [],
   "source": [
    "classifier = nltk.NaiveBayesClassifier.train(train_set)"
   ]
  },
  {
   "cell_type": "code",
   "execution_count": 23,
   "id": "6475ec20",
   "metadata": {},
   "outputs": [
    {
     "data": {
      "text/plain": [
       "'male'"
      ]
     },
     "execution_count": 23,
     "metadata": {},
     "output_type": "execute_result"
    }
   ],
   "source": [
    "classifier.classify(gender_features('Neo'))"
   ]
  },
  {
   "cell_type": "code",
   "execution_count": 24,
   "id": "6f4e5844",
   "metadata": {},
   "outputs": [
    {
     "data": {
      "text/plain": [
       "'female'"
      ]
     },
     "execution_count": 24,
     "metadata": {},
     "output_type": "execute_result"
    }
   ],
   "source": [
    "classifier.classify(gender_features('Trinity'))"
   ]
  },
  {
   "cell_type": "code",
   "execution_count": 25,
   "id": "35da61ad",
   "metadata": {},
   "outputs": [
    {
     "name": "stdout",
     "output_type": "stream",
     "text": [
      "0.77\n"
     ]
    }
   ],
   "source": [
    "print(nltk.classify.accuracy(classifier, test_set))"
   ]
  },
  {
   "cell_type": "code",
   "execution_count": 26,
   "id": "d8fcfdf9",
   "metadata": {},
   "outputs": [],
   "source": [
    "def gender_features2(name):\n",
    "    features = {}\n",
    "    features['first_letter'] = name[0].lower()\n",
    "    features['last_letter'] = name[-1].lower()\n",
    "    for letter in 'abcdefghijklmnopqrstuvwxyz':\n",
    "        features['count({})'.format(letter)] = name.lower().count(letter)\n",
    "        features['has({})'.format(letter)] = (letter in name.lower())\n",
    "    return features"
   ]
  },
  {
   "cell_type": "code",
   "execution_count": 27,
   "id": "475363d9",
   "metadata": {},
   "outputs": [
    {
     "data": {
      "text/plain": [
       "{'first_letter': 'j',\n",
       " 'last_letter': 'n',\n",
       " 'count(a)': 0,\n",
       " 'has(a)': False,\n",
       " 'count(b)': 0,\n",
       " 'has(b)': False,\n",
       " 'count(c)': 0,\n",
       " 'has(c)': False,\n",
       " 'count(d)': 0,\n",
       " 'has(d)': False,\n",
       " 'count(e)': 0,\n",
       " 'has(e)': False,\n",
       " 'count(f)': 0,\n",
       " 'has(f)': False,\n",
       " 'count(g)': 0,\n",
       " 'has(g)': False,\n",
       " 'count(h)': 1,\n",
       " 'has(h)': True,\n",
       " 'count(i)': 0,\n",
       " 'has(i)': False,\n",
       " 'count(j)': 1,\n",
       " 'has(j)': True,\n",
       " 'count(k)': 0,\n",
       " 'has(k)': False,\n",
       " 'count(l)': 0,\n",
       " 'has(l)': False,\n",
       " 'count(m)': 0,\n",
       " 'has(m)': False,\n",
       " 'count(n)': 1,\n",
       " 'has(n)': True,\n",
       " 'count(o)': 1,\n",
       " 'has(o)': True,\n",
       " 'count(p)': 0,\n",
       " 'has(p)': False,\n",
       " 'count(q)': 0,\n",
       " 'has(q)': False,\n",
       " 'count(r)': 0,\n",
       " 'has(r)': False,\n",
       " 'count(s)': 0,\n",
       " 'has(s)': False,\n",
       " 'count(t)': 0,\n",
       " 'has(t)': False,\n",
       " 'count(u)': 0,\n",
       " 'has(u)': False,\n",
       " 'count(v)': 0,\n",
       " 'has(v)': False,\n",
       " 'count(w)': 0,\n",
       " 'has(w)': False,\n",
       " 'count(x)': 0,\n",
       " 'has(x)': False,\n",
       " 'count(y)': 0,\n",
       " 'has(y)': False,\n",
       " 'count(z)': 0,\n",
       " 'has(z)': False}"
      ]
     },
     "execution_count": 27,
     "metadata": {},
     "output_type": "execute_result"
    }
   ],
   "source": [
    "gender_features2('John')"
   ]
  },
  {
   "cell_type": "code",
   "execution_count": 29,
   "id": "d4058279",
   "metadata": {},
   "outputs": [
    {
     "name": "stdout",
     "output_type": "stream",
     "text": [
      "0.78\n"
     ]
    }
   ],
   "source": [
    "featuresets = [(gender_features2(n), gender) for (n, gender) in labeled_names]\n",
    "train_set, test_set = featuresets[500:], featuresets[:500]\n",
    "classifier = nltk.NaiveBayesClassifier.train(train_set)\n",
    "print(nltk.classify.accuracy(classifier, test_set))"
   ]
  },
  {
   "cell_type": "code",
   "execution_count": 32,
   "id": "3cae41ad",
   "metadata": {},
   "outputs": [],
   "source": [
    "train_names = labeled_names[1500:]\n",
    "devtest_names = labeled_names[500:1500]\n",
    "test_names = labeled_names[:500]"
   ]
  },
  {
   "cell_type": "code",
   "execution_count": 33,
   "id": "70c505c1",
   "metadata": {},
   "outputs": [
    {
     "name": "stdout",
     "output_type": "stream",
     "text": [
      "0.754\n"
     ]
    }
   ],
   "source": [
    "train_set = [(gender_features(n), gender) for (n, gender) in train_names]\n",
    "devtest_set = [(gender_features(n), gender) for (n, gender) in devtest_names]\n",
    "test_set = [(gender_features(n), gender) for (n, gender) in test_names]\n",
    "classifier = nltk.NaiveBayesClassifier.train(train_set)\n",
    "print(nltk.classify.accuracy(classifier, devtest_set))"
   ]
  },
  {
   "cell_type": "code",
   "execution_count": 34,
   "id": "789266e2",
   "metadata": {},
   "outputs": [],
   "source": [
    "errors = []\n",
    "for (name, tag) in devtest_names:\n",
    "    guess = classifier.classify(gender_features(name))\n",
    "    if guess != tag:\n",
    "        errors.append( (tag, guess, name) )"
   ]
  },
  {
   "cell_type": "code",
   "execution_count": 35,
   "id": "b6fad1ca",
   "metadata": {},
   "outputs": [
    {
     "name": "stdout",
     "output_type": "stream",
     "text": [
      "correct=female   guess=male     name=Adrian                        \n",
      "correct=female   guess=male     name=Alyson                        \n",
      "correct=female   guess=male     name=Amargo                        \n",
      "correct=female   guess=male     name=Anne-Mar                      \n",
      "correct=female   guess=male     name=Ardelis                       \n",
      "correct=female   guess=male     name=Bab                           \n",
      "correct=female   guess=male     name=Beatriz                       \n",
      "correct=female   guess=male     name=Beau                          \n",
      "correct=female   guess=male     name=Beryl                         \n",
      "correct=female   guess=male     name=Bird                          \n",
      "correct=female   guess=male     name=Bliss                         \n",
      "correct=female   guess=male     name=Blondell                      \n",
      "correct=female   guess=male     name=Bo                            \n",
      "correct=female   guess=male     name=Caren                         \n",
      "correct=female   guess=male     name=Carlen                        \n",
      "correct=female   guess=male     name=Carlyn                        \n",
      "correct=female   guess=male     name=Carol                         \n",
      "correct=female   guess=male     name=Caroleen                      \n",
      "correct=female   guess=male     name=Caryn                         \n",
      "correct=female   guess=male     name=Cathrin                       \n",
      "correct=female   guess=male     name=Cathyleen                     \n",
      "correct=female   guess=male     name=Ceil                          \n",
      "correct=female   guess=male     name=Charin                        \n",
      "correct=female   guess=male     name=Charis                        \n",
      "correct=female   guess=male     name=Charlott                      \n",
      "correct=female   guess=male     name=Charmion                      \n",
      "correct=female   guess=male     name=Charo                         \n",
      "correct=female   guess=male     name=Christen                      \n",
      "correct=female   guess=male     name=Christin                      \n",
      "correct=female   guess=male     name=Chrystel                      \n",
      "correct=female   guess=male     name=Claribel                      \n",
      "correct=female   guess=male     name=Cleo                          \n",
      "correct=female   guess=male     name=Clo                           \n",
      "correct=female   guess=male     name=Daloris                       \n",
      "correct=female   guess=male     name=Daniel                        \n",
      "correct=female   guess=male     name=Darleen                       \n",
      "correct=female   guess=male     name=Daryl                         \n",
      "correct=female   guess=male     name=Deeann                        \n",
      "correct=female   guess=male     name=Dorris                        \n",
      "correct=female   guess=male     name=Dot                           \n",
      "correct=female   guess=male     name=Eileen                        \n",
      "correct=female   guess=male     name=Emlynn                        \n",
      "correct=female   guess=male     name=Emmalyn                       \n",
      "correct=female   guess=male     name=Evangelin                     \n",
      "correct=female   guess=male     name=Francis                       \n",
      "correct=female   guess=male     name=Frank                         \n",
      "correct=female   guess=male     name=Glynnis                       \n",
      "correct=female   guess=male     name=Gretel                        \n",
      "correct=female   guess=male     name=Grier                         \n",
      "correct=female   guess=male     name=Grissel                       \n",
      "correct=female   guess=male     name=Heather                       \n",
      "correct=female   guess=male     name=Hildagard                     \n",
      "correct=female   guess=male     name=Ingeberg                      \n",
      "correct=female   guess=male     name=Ingeborg                      \n",
      "correct=female   guess=male     name=Ingrid                        \n",
      "correct=female   guess=male     name=Isobel                        \n",
      "correct=female   guess=male     name=Izabel                        \n",
      "correct=female   guess=male     name=Jaclyn                        \n",
      "correct=female   guess=male     name=Jan                           \n",
      "correct=female   guess=male     name=Jean                          \n",
      "correct=female   guess=male     name=Joannes                       \n",
      "correct=female   guess=male     name=Joslyn                        \n",
      "correct=female   guess=male     name=Jourdan                       \n",
      "correct=female   guess=male     name=Juliann                       \n",
      "correct=female   guess=male     name=Kaitlin                       \n",
      "correct=female   guess=male     name=Karalynn                      \n",
      "correct=female   guess=male     name=Karilynn                      \n",
      "correct=female   guess=male     name=Karlen                        \n",
      "correct=female   guess=male     name=Kellyann                      \n",
      "correct=female   guess=male     name=Keriann                       \n",
      "correct=female   guess=male     name=Kerstin                       \n",
      "correct=female   guess=male     name=Kiersten                      \n",
      "correct=female   guess=male     name=Koral                         \n",
      "correct=female   guess=male     name=Lamb                          \n",
      "correct=female   guess=male     name=Leland                        \n",
      "correct=female   guess=male     name=Lib                           \n",
      "correct=female   guess=male     name=Lilian                        \n",
      "correct=female   guess=male     name=Lillian                       \n",
      "correct=female   guess=male     name=Linell                        \n",
      "correct=female   guess=male     name=Linnell                       \n",
      "correct=female   guess=male     name=Linnet                        \n",
      "correct=female   guess=male     name=Loralyn                       \n",
      "correct=female   guess=male     name=Lorrin                        \n",
      "correct=female   guess=male     name=Lyndel                        \n",
      "correct=female   guess=male     name=Madalyn                       \n",
      "correct=female   guess=male     name=Madelin                       \n",
      "correct=female   guess=male     name=Madelyn                       \n",
      "correct=female   guess=male     name=Mair                          \n",
      "correct=female   guess=male     name=Maridel                       \n",
      "correct=female   guess=male     name=Marieann                      \n",
      "correct=female   guess=male     name=Marijo                        \n",
      "correct=female   guess=male     name=Maryangelyn                   \n",
      "correct=female   guess=male     name=Meggan                        \n",
      "correct=female   guess=male     name=Meridel                       \n",
      "correct=female   guess=male     name=Nariko                        \n",
      "correct=female   guess=male     name=Noel                          \n",
      "correct=female   guess=male     name=Noell                         \n",
      "correct=female   guess=male     name=Noelyn                        \n",
      "correct=female   guess=male     name=Opal                          \n",
      "correct=female   guess=male     name=Peg                           \n",
      "correct=female   guess=male     name=Phil                          \n",
      "correct=female   guess=male     name=Pier                          \n",
      "correct=female   guess=male     name=Rahal                         \n",
      "correct=female   guess=male     name=Raquel                        \n",
      "correct=female   guess=male     name=Raychel                       \n",
      "correct=female   guess=male     name=Raynell                       \n",
      "correct=female   guess=male     name=Reiko                         \n",
      "correct=female   guess=male     name=Rianon                        \n",
      "correct=female   guess=male     name=Robbyn                        \n",
      "correct=female   guess=male     name=Rosaleen                      \n",
      "correct=female   guess=male     name=Rosalyn                       \n",
      "correct=female   guess=male     name=Roseann                       \n",
      "correct=female   guess=male     name=Rozamond                      \n",
      "correct=female   guess=male     name=Sal                           \n",
      "correct=female   guess=male     name=Sean                          \n",
      "correct=female   guess=male     name=Shamit                        \n",
      "correct=female   guess=male     name=Shannen                       \n",
      "correct=female   guess=male     name=Shanon                        \n",
      "correct=female   guess=male     name=Sharon                        \n",
      "correct=female   guess=male     name=Sharyl                        \n",
      "correct=female   guess=male     name=Shawn                         \n",
      "correct=female   guess=male     name=Shaylyn                       \n",
      "correct=female   guess=male     name=Sherill                       \n",
      "correct=female   guess=male     name=Susann                        \n",
      "correct=female   guess=male     name=Taryn                         \n",
      "correct=female   guess=male     name=Tess                          \n",
      "correct=female   guess=male     name=Tomiko                        \n",
      "correct=female   guess=male     name=Val                           \n",
      "correct=female   guess=male     name=Vin                           \n",
      "correct=female   guess=male     name=Wileen                        \n",
      "correct=female   guess=male     name=Yoshiko                       \n",
      "correct=male     guess=female   name=Abe                           \n",
      "correct=male     guess=female   name=Addie                         \n",
      "correct=male     guess=female   name=Aguste                        \n",
      "correct=male     guess=female   name=Alfonse                       \n",
      "correct=male     guess=female   name=Anatoly                       \n",
      "correct=male     guess=female   name=Andrey                        \n",
      "correct=male     guess=female   name=Arvy                          \n",
      "correct=male     guess=female   name=Aube                          \n",
      "correct=male     guess=female   name=Barnabe                       \n",
      "correct=male     guess=female   name=Bay                           \n",
      "correct=male     guess=female   name=Berkeley                      \n",
      "correct=male     guess=female   name=Berkley                       \n",
      "correct=male     guess=female   name=Bernie                        \n",
      "correct=male     guess=female   name=Binky                         \n",
      "correct=male     guess=female   name=Blare                         \n",
      "correct=male     guess=female   name=Bobbie                        \n",
      "correct=male     guess=female   name=Bradley                       \n",
      "correct=male     guess=female   name=Brody                         \n",
      "correct=male     guess=female   name=Bruce                         \n",
      "correct=male     guess=female   name=Chase                         \n",
      "correct=male     guess=female   name=Christie                      \n",
      "correct=male     guess=female   name=Christoph                     \n",
      "correct=male     guess=female   name=Clarence                      \n",
      "correct=male     guess=female   name=Claude                        \n",
      "correct=male     guess=female   name=Cole                          \n",
      "correct=male     guess=female   name=Connolly                      \n",
      "correct=male     guess=female   name=Constantine                   \n",
      "correct=male     guess=female   name=Corrie                        \n",
      "correct=male     guess=female   name=Dabney                        \n",
      "correct=male     guess=female   name=Dane                          \n",
      "correct=male     guess=female   name=Darcy                         \n",
      "correct=male     guess=female   name=Dmitri                        \n",
      "correct=male     guess=female   name=Duffy                         \n",
      "correct=male     guess=female   name=Emmy                          \n",
      "correct=male     guess=female   name=Ferdy                         \n",
      "correct=male     guess=female   name=Fonsie                        \n",
      "correct=male     guess=female   name=Franky                        \n",
      "correct=male     guess=female   name=Garvy                         \n",
      "correct=male     guess=female   name=George                        \n",
      "correct=male     guess=female   name=Georgia                       \n",
      "correct=male     guess=female   name=Georgie                       \n",
      "correct=male     guess=female   name=Gerri                         \n",
      "correct=male     guess=female   name=Goose                         \n",
      "correct=male     guess=female   name=Griffith                      \n",
      "correct=male     guess=female   name=Guillaume                     \n",
      "correct=male     guess=female   name=Guthry                        \n",
      "correct=male     guess=female   name=Guy                           \n",
      "correct=male     guess=female   name=Hari                          \n",
      "correct=male     guess=female   name=Herby                         \n",
      "correct=male     guess=female   name=Hervey                        \n",
      "correct=male     guess=female   name=Ikey                          \n",
      "correct=male     guess=female   name=Ira                           \n",
      "correct=male     guess=female   name=Isa                           \n",
      "correct=male     guess=female   name=Jae                           \n",
      "correct=male     guess=female   name=Jake                          \n",
      "correct=male     guess=female   name=Jeremie                       \n",
      "correct=male     guess=female   name=Jesse                         \n",
      "correct=male     guess=female   name=Jimmy                         \n",
      "correct=male     guess=female   name=Johnnie                       \n",
      "correct=male     guess=female   name=Joseph                        \n",
      "correct=male     guess=female   name=Juanita                       \n",
      "correct=male     guess=female   name=Kane                          \n",
      "correct=male     guess=female   name=Kelsey                        \n",
      "correct=male     guess=female   name=Kennedy                       \n",
      "correct=male     guess=female   name=Kenny                         \n",
      "correct=male     guess=female   name=Kerry                         \n",
      "correct=male     guess=female   name=Knox                          \n",
      "correct=male     guess=female   name=Lanny                         \n",
      "correct=male     guess=female   name=Lawrence                      \n",
      "correct=male     guess=female   name=Lazare                        \n",
      "correct=male     guess=female   name=Lindsay                       \n",
      "correct=male     guess=female   name=Meade                         \n",
      "correct=male     guess=female   name=Meredeth                      \n",
      "correct=male     guess=female   name=Moise                         \n",
      "correct=male     guess=female   name=Moshe                         \n",
      "correct=male     guess=female   name=Munroe                        \n",
      "correct=male     guess=female   name=Nichole                       \n",
      "correct=male     guess=female   name=Nikita                        \n",
      "correct=male     guess=female   name=Noe                           \n",
      "correct=male     guess=female   name=Osbourne                      \n",
      "correct=male     guess=female   name=Pascale                       \n",
      "correct=male     guess=female   name=Pattie                        \n",
      "correct=male     guess=female   name=Patty                         \n",
      "correct=male     guess=female   name=Quincey                       \n",
      "correct=male     guess=female   name=Rafe                          \n",
      "correct=male     guess=female   name=Ramesh                        \n",
      "correct=male     guess=female   name=Ravi                          \n",
      "correct=male     guess=female   name=Ricki                         \n",
      "correct=male     guess=female   name=Roarke                        \n",
      "correct=male     guess=female   name=Roddie                        \n",
      "correct=male     guess=female   name=Rodney                        \n",
      "correct=male     guess=female   name=Ronny                         \n",
      "correct=male     guess=female   name=Royce                         \n",
      "correct=male     guess=female   name=Rudie                         \n",
      "correct=male     guess=female   name=Rudolph                       \n",
      "correct=male     guess=female   name=Sheffy                        \n",
      "correct=male     guess=female   name=Simone                        \n",
      "correct=male     guess=female   name=Skippy                        \n",
      "correct=male     guess=female   name=Sonnie                        \n",
      "correct=male     guess=female   name=Stacy                         \n",
      "correct=male     guess=female   name=Tabbie                        \n",
      "correct=male     guess=female   name=Tammy                         \n",
      "correct=male     guess=female   name=Tate                          \n",
      "correct=male     guess=female   name=Teddy                         \n",
      "correct=male     guess=female   name=Timmy                         \n",
      "correct=male     guess=female   name=Tobiah                        \n",
      "correct=male     guess=female   name=Tonnie                        \n",
      "correct=male     guess=female   name=Tracey                        \n",
      "correct=male     guess=female   name=Troy                          \n",
      "correct=male     guess=female   name=Tuckie                        \n",
      "correct=male     guess=female   name=Verge                         \n",
      "correct=male     guess=female   name=Voltaire                      \n",
      "correct=male     guess=female   name=Welbie                        \n",
      "correct=male     guess=female   name=Woodie                        \n",
      "correct=male     guess=female   name=Yule                          \n"
     ]
    }
   ],
   "source": [
    "for (tag, guess, name) in sorted(errors):\n",
    "    print('correct={:<8} guess={:<8s} name={:<30}'.format(tag, guess, name))"
   ]
  },
  {
   "cell_type": "code",
   "execution_count": 36,
   "id": "0f008533",
   "metadata": {},
   "outputs": [],
   "source": [
    "def gender_features(word):\n",
    "    return { 'suffix1' : word[-1],\n",
    "             'suffix2' : word[-2]}"
   ]
  },
  {
   "cell_type": "code",
   "execution_count": 37,
   "id": "615a885f",
   "metadata": {},
   "outputs": [
    {
     "name": "stdout",
     "output_type": "stream",
     "text": [
      "0.761\n"
     ]
    }
   ],
   "source": [
    "train_set = [(gender_features(n), gender) for (n, gender) in train_names]\n",
    "devtest_set = [(gender_features(n), gender) for (n, gender) in devtest_names]\n",
    "classifier = nltk.NaiveBayesClassifier.train(train_set)\n",
    "print(nltk.classify.accuracy(classifier, devtest_set))"
   ]
  },
  {
   "cell_type": "code",
   "execution_count": null,
   "id": "e564a842",
   "metadata": {},
   "outputs": [],
   "source": []
  },
  {
   "cell_type": "markdown",
   "id": "09ac0c69",
   "metadata": {},
   "source": [
    "# Document Classification"
   ]
  },
  {
   "cell_type": "code",
   "execution_count": 48,
   "id": "36971d0d",
   "metadata": {},
   "outputs": [],
   "source": [
    "from nltk.corpus import movie_reviews\n",
    "documents = [(list(movie_reviews.words(fileid)), category)\n",
    "             for category in movie_reviews.categories()\n",
    "             for fileid in movie_reviews.fileids(category)]\n",
    "random.shuffle(documents)"
   ]
  },
  {
   "cell_type": "code",
   "execution_count": 49,
   "id": "67038615",
   "metadata": {},
   "outputs": [],
   "source": [
    "all_words = nltk.FreqDist(w.lower() for w in movie_reviews.words())\n",
    "word_features = list(all_words)[:2000]\n",
    "\n",
    "def document_features(document):\n",
    "    document_words = set(document)\n",
    "    features = {}\n",
    "    for word in word_features:\n",
    "        features['contains({})'.format(word)] = (word in document_words)\n",
    "    return features"
   ]
  },
  {
   "cell_type": "code",
   "execution_count": 50,
   "id": "c8c08de2",
   "metadata": {},
   "outputs": [],
   "source": [
    "featuresets = [(document_features(d), c) for (d,c) in documents]\n",
    "train_set, test_set = featuresets[100:], featuresets[:100]\n",
    "classifier = nltk.NaiveBayesClassifier.train(train_set)"
   ]
  },
  {
   "cell_type": "code",
   "execution_count": 51,
   "id": "74480b5d",
   "metadata": {},
   "outputs": [
    {
     "name": "stdout",
     "output_type": "stream",
     "text": [
      "0.78\n"
     ]
    }
   ],
   "source": [
    "print(nltk.classify.accuracy(classifier, test_set))"
   ]
  },
  {
   "cell_type": "code",
   "execution_count": 52,
   "id": "6eb5c6f7",
   "metadata": {},
   "outputs": [
    {
     "name": "stdout",
     "output_type": "stream",
     "text": [
      "Most Informative Features\n",
      "   contains(outstanding) = True              pos : neg    =     11.0 : 1.0\n",
      "         contains(mulan) = True              pos : neg    =      8.9 : 1.0\n",
      "        contains(seagal) = True              neg : pos    =      7.9 : 1.0\n",
      "         contains(damon) = True              pos : neg    =      7.8 : 1.0\n",
      "   contains(wonderfully) = True              pos : neg    =      6.5 : 1.0\n"
     ]
    }
   ],
   "source": [
    "classifier.show_most_informative_features(5)"
   ]
  },
  {
   "cell_type": "code",
   "execution_count": null,
   "id": "6c34f09c",
   "metadata": {},
   "outputs": [],
   "source": []
  },
  {
   "cell_type": "markdown",
   "id": "54056e4d",
   "metadata": {},
   "source": [
    "# Part-of-Speech Tagging"
   ]
  },
  {
   "cell_type": "code",
   "execution_count": 53,
   "id": "dd0cf1c4",
   "metadata": {},
   "outputs": [],
   "source": [
    "from nltk.corpus import brown\n",
    "suffix_fdist = nltk.FreqDist()"
   ]
  },
  {
   "cell_type": "code",
   "execution_count": 54,
   "id": "e0299ae9",
   "metadata": {},
   "outputs": [],
   "source": [
    "for word in brown.words():\n",
    "    word = word.lower()\n",
    "    suffix_fdist[word[-1:]] += 1\n",
    "    suffix_fdist[word[-2:]] += 1\n",
    "    suffix_fdist[word[-3:]] += 1"
   ]
  },
  {
   "cell_type": "code",
   "execution_count": 55,
   "id": "3c3c8ed4",
   "metadata": {},
   "outputs": [
    {
     "name": "stdout",
     "output_type": "stream",
     "text": [
      "['e', ',', '.', 's', 'd', 't', 'he', 'n', 'a', 'of', 'the', 'y', 'r', 'to', 'in', 'f', 'o', 'ed', 'nd', 'is', 'on', 'l', 'g', 'and', 'ng', 'er', 'as', 'ing', 'h', 'at', 'es', 'or', 're', 'it', '``', 'an', \"''\", 'm', ';', 'i', 'ly', 'ion', 'en', 'al', '?', 'nt', 'be', 'hat', 'st', 'his', 'th', 'll', 'le', 'ce', 'by', 'ts', 'me', 've', \"'\", 'se', 'ut', 'was', 'for', 'ent', 'ch', 'k', 'w', 'ld', '`', 'rs', 'ted', 'ere', 'her', 'ne', 'ns', 'ith', 'ad', 'ry', ')', '(', 'te', '--', 'ay', 'ty', 'ot', 'p', 'nce', \"'s\", 'ter', 'om', 'ss', ':', 'we', 'are', 'c', 'ers', 'uld', 'had', 'so', 'ey']\n"
     ]
    }
   ],
   "source": [
    "common_suffixes = [suffix for (suffix, count) in suffix_fdist.most_common(100)]\n",
    "print(common_suffixes)"
   ]
  },
  {
   "cell_type": "code",
   "execution_count": 56,
   "id": "0088ad8d",
   "metadata": {},
   "outputs": [],
   "source": [
    "def pos_features(word):\n",
    "    features = {}\n",
    "    for suffix in common_suffixes:\n",
    "        features['endswith({})'.format(suffix)] = word.lower().endswith(suffix)\n",
    "    return features"
   ]
  },
  {
   "cell_type": "code",
   "execution_count": 57,
   "id": "78145426",
   "metadata": {},
   "outputs": [],
   "source": [
    "tagged_words = brown.tagged_words(categories='news')\n",
    "featuresets = [(pos_features(n), g) for (n,g) in tagged_words]"
   ]
  },
  {
   "cell_type": "code",
   "execution_count": 58,
   "id": "ad4f222b",
   "metadata": {},
   "outputs": [],
   "source": [
    "size = int(len(featuresets) * 0.1)\n",
    "train_set, test_set = featuresets[size:], featuresets[:size]"
   ]
  },
  {
   "cell_type": "code",
   "execution_count": 59,
   "id": "93d79fb6",
   "metadata": {},
   "outputs": [
    {
     "data": {
      "text/plain": [
       "0.6270512182993535"
      ]
     },
     "execution_count": 59,
     "metadata": {},
     "output_type": "execute_result"
    }
   ],
   "source": [
    "classifier = nltk.DecisionTreeClassifier.train(train_set)\n",
    "nltk.classify.accuracy(classifier, test_set)"
   ]
  },
  {
   "cell_type": "code",
   "execution_count": 60,
   "id": "7b2ff633",
   "metadata": {},
   "outputs": [
    {
     "data": {
      "text/plain": [
       "'NNS'"
      ]
     },
     "execution_count": 60,
     "metadata": {},
     "output_type": "execute_result"
    }
   ],
   "source": [
    "classifier.classify(pos_features('cats'))"
   ]
  },
  {
   "cell_type": "code",
   "execution_count": null,
   "id": "a05fa1b1",
   "metadata": {},
   "outputs": [],
   "source": []
  },
  {
   "cell_type": "markdown",
   "id": "7ad4d6f2",
   "metadata": {},
   "source": [
    "# Exploiting Context"
   ]
  },
  {
   "cell_type": "code",
   "execution_count": 63,
   "id": "a04e616c",
   "metadata": {},
   "outputs": [],
   "source": [
    "def pos_features(sentence, i):\n",
    "    features = {\"suffix(1)\": sentence[i][-1:],\n",
    "                \"suffix(2)\": sentence[i][-2:],\n",
    "                \"suffix(3)\": sentence[i][-3:]}\n",
    "    if i == 0:\n",
    "        features[\"prev-word\"] = \"<START>\"\n",
    "    else:\n",
    "        features[\"prev-word\"] = sentence[i-1]\n",
    "    return features"
   ]
  },
  {
   "cell_type": "code",
   "execution_count": 65,
   "id": "d17509bc",
   "metadata": {},
   "outputs": [
    {
     "data": {
      "text/plain": [
       "{'suffix(1)': 'n', 'suffix(2)': 'on', 'suffix(3)': 'ion', 'prev-word': 'an'}"
      ]
     },
     "execution_count": 65,
     "metadata": {},
     "output_type": "execute_result"
    }
   ],
   "source": [
    "pos_features(brown.sents()[0], 8)"
   ]
  },
  {
   "cell_type": "code",
   "execution_count": 66,
   "id": "12ccd380",
   "metadata": {},
   "outputs": [
    {
     "data": {
      "text/plain": [
       "0.7891596220785678"
      ]
     },
     "execution_count": 66,
     "metadata": {},
     "output_type": "execute_result"
    }
   ],
   "source": [
    "tagged_sents = brown.tagged_sents(categories='news')\n",
    "featuresets = []\n",
    "for tagged_sent in tagged_sents:\n",
    "    untagged_sent = nltk.tag.untag(tagged_sent)\n",
    "    for i, (word, tag) in enumerate(tagged_sent):\n",
    "        featuresets.append( (pos_features(untagged_sent, i), tag) )\n",
    "\n",
    "size = int(len(featuresets) * 0.1)\n",
    "train_set, test_set = featuresets[size:], featuresets[:size]\n",
    "classifier = nltk.NaiveBayesClassifier.train(train_set)\n",
    "nltk.classify.accuracy(classifier, test_set)"
   ]
  },
  {
   "cell_type": "code",
   "execution_count": 70,
   "id": "8cc7ffba",
   "metadata": {},
   "outputs": [],
   "source": [
    "def pos_features(sentence, i, history):\n",
    "    features = {\"suffix(1)\": sentence[i][-1:],\n",
    "                 \"suffix(2)\": sentence[i][-2:],\n",
    "                 \"suffix(3)\": sentence[i][-3:]}\n",
    "    if i == 0:\n",
    "        features[\"prev-word\"] = \"<START>\"\n",
    "        features[\"prev-tag\"] = \"<START>\"\n",
    "    else:\n",
    "        features[\"prev-word\"] = sentence[i-1]\n",
    "        features[\"prev-tag\"] = history[i-1]\n",
    "    return features\n",
    "\n",
    "class ConsecutivePosTagger(nltk.TaggerI):\n",
    "\n",
    "    def __init__(self, train_sents):\n",
    "        train_set = []\n",
    "        for tagged_sent in train_sents:\n",
    "            untagged_sent = nltk.tag.untag(tagged_sent)\n",
    "            history = []\n",
    "            for i, (word, tag) in enumerate(tagged_sent):\n",
    "                featureset = pos_features(untagged_sent, i, history)\n",
    "                train_set.append( (featureset, tag) )\n",
    "                history.append(tag)\n",
    "        self.classifier = nltk.NaiveBayesClassifier.train(train_set)\n",
    "\n",
    "    def tag(self, sentence):\n",
    "        history = []\n",
    "        for i, word in enumerate(sentence):\n",
    "            featureset = pos_features(sentence, i, history)\n",
    "            tag = self.classifier.classify(featureset)\n",
    "            history.append(tag)\n",
    "        return zip(sentence, history)"
   ]
  },
  {
   "cell_type": "code",
   "execution_count": 74,
   "id": "b0097d99",
   "metadata": {},
   "outputs": [
    {
     "name": "stderr",
     "output_type": "stream",
     "text": [
      "C:\\Users\\Admin\\AppData\\Local\\Temp\\ipykernel_1600\\1078914349.py:5: DeprecationWarning: \n",
      "  Function evaluate() has been deprecated.  Use accuracy(gold)\n",
      "  instead.\n",
      "  print(tagger.evaluate(test_sents))\n"
     ]
    },
    {
     "name": "stdout",
     "output_type": "stream",
     "text": [
      "0.7980528511821975\n"
     ]
    }
   ],
   "source": [
    "taagged_sents = brown.tagged_sents(categories='news')\n",
    "size = int(len(tagged_sents) * 0.1)\n",
    "train_sents, test_sents = tagged_sents[size:], tagged_sents[:size]\n",
    "tagger = ConsecutivePosTagger(train_sents)\n",
    "print(tagger.evaluate(test_sents))"
   ]
  },
  {
   "cell_type": "code",
   "execution_count": null,
   "id": "c4b6617c",
   "metadata": {},
   "outputs": [],
   "source": []
  },
  {
   "cell_type": "code",
   "execution_count": null,
   "id": "035b1afb",
   "metadata": {},
   "outputs": [],
   "source": []
  },
  {
   "cell_type": "code",
   "execution_count": null,
   "id": "7ddb622a",
   "metadata": {},
   "outputs": [],
   "source": []
  }
 ],
 "metadata": {
  "kernelspec": {
   "display_name": "Python 3 (ipykernel)",
   "language": "python",
   "name": "python3"
  },
  "language_info": {
   "codemirror_mode": {
    "name": "ipython",
    "version": 3
   },
   "file_extension": ".py",
   "mimetype": "text/x-python",
   "name": "python",
   "nbconvert_exporter": "python",
   "pygments_lexer": "ipython3",
   "version": "3.9.12"
  }
 },
 "nbformat": 4,
 "nbformat_minor": 5
}
