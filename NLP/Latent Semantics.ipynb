{
 "cells": [
  {
   "cell_type": "code",
   "execution_count": 1,
   "id": "e915d890",
   "metadata": {},
   "outputs": [
    {
     "name": "stdout",
     "output_type": "stream",
     "text": [
      "Defaulting to user installation because normal site-packages is not writeable\n",
      "Collecting ordered-set\n",
      "  Downloading ordered_set-4.1.0-py3-none-any.whl (7.6 kB)\n",
      "Installing collected packages: ordered-set\n",
      "Successfully installed ordered-set-4.1.0\n"
     ]
    }
   ],
   "source": [
    "!pip install ordered-set"
   ]
  },
  {
   "cell_type": "code",
   "execution_count": 10,
   "id": "72b76935",
   "metadata": {},
   "outputs": [],
   "source": [
    "import pandas as pd\n",
    "import numpy as np\n",
    "from collections import Counter\n",
    "from ordered_set import OrderedSet"
   ]
  },
  {
   "cell_type": "code",
   "execution_count": 11,
   "id": "7d8bfa75",
   "metadata": {},
   "outputs": [],
   "source": [
    "d1 = \"The cow jumped over the moon\"\n",
    "d2 = \"O'Leary's cow kicked the lamp\"\n",
    "d3 = \"The kicked lamp started a fire\"\n",
    "d4 = \"The cow on fire\""
   ]
  },
  {
   "cell_type": "code",
   "execution_count": 16,
   "id": "87413a3f",
   "metadata": {},
   "outputs": [],
   "source": [
    "def term_doc(*docs):\n",
    "    dd = []\n",
    "    for doc in docs:\n",
    "        dd.append(list(map(lambda x: x.lower(), doc.split(' '))))\n",
    "        \n",
    "    counts = dict()\n",
    "    for idx, doc in enumerate(dd):\n",
    "        counts[idx] = Counter(doc)\n",
    "        \n",
    "    mat = pd.DataFrame(counts).replace(np.nan, 0)\n",
    "    \n",
    "    words = list(OrderedSet([word for doc in dd for word in doc]))\n",
    "    \n",
    "    return mat, words"
   ]
  },
  {
   "cell_type": "code",
   "execution_count": 17,
   "id": "a295433d",
   "metadata": {},
   "outputs": [
    {
     "data": {
      "text/html": [
       "<div>\n",
       "<style scoped>\n",
       "    .dataframe tbody tr th:only-of-type {\n",
       "        vertical-align: middle;\n",
       "    }\n",
       "\n",
       "    .dataframe tbody tr th {\n",
       "        vertical-align: top;\n",
       "    }\n",
       "\n",
       "    .dataframe thead th {\n",
       "        text-align: right;\n",
       "    }\n",
       "</style>\n",
       "<table border=\"1\" class=\"dataframe\">\n",
       "  <thead>\n",
       "    <tr style=\"text-align: right;\">\n",
       "      <th></th>\n",
       "      <th>0</th>\n",
       "      <th>1</th>\n",
       "      <th>2</th>\n",
       "      <th>3</th>\n",
       "    </tr>\n",
       "  </thead>\n",
       "  <tbody>\n",
       "    <tr>\n",
       "      <th>the</th>\n",
       "      <td>2.0</td>\n",
       "      <td>1.0</td>\n",
       "      <td>1.0</td>\n",
       "      <td>1.0</td>\n",
       "    </tr>\n",
       "    <tr>\n",
       "      <th>cow</th>\n",
       "      <td>1.0</td>\n",
       "      <td>1.0</td>\n",
       "      <td>0.0</td>\n",
       "      <td>1.0</td>\n",
       "    </tr>\n",
       "    <tr>\n",
       "      <th>jumped</th>\n",
       "      <td>1.0</td>\n",
       "      <td>0.0</td>\n",
       "      <td>0.0</td>\n",
       "      <td>0.0</td>\n",
       "    </tr>\n",
       "    <tr>\n",
       "      <th>over</th>\n",
       "      <td>1.0</td>\n",
       "      <td>0.0</td>\n",
       "      <td>0.0</td>\n",
       "      <td>0.0</td>\n",
       "    </tr>\n",
       "    <tr>\n",
       "      <th>moon</th>\n",
       "      <td>1.0</td>\n",
       "      <td>0.0</td>\n",
       "      <td>0.0</td>\n",
       "      <td>0.0</td>\n",
       "    </tr>\n",
       "    <tr>\n",
       "      <th>o'leary's</th>\n",
       "      <td>0.0</td>\n",
       "      <td>1.0</td>\n",
       "      <td>0.0</td>\n",
       "      <td>0.0</td>\n",
       "    </tr>\n",
       "    <tr>\n",
       "      <th>kicked</th>\n",
       "      <td>0.0</td>\n",
       "      <td>1.0</td>\n",
       "      <td>1.0</td>\n",
       "      <td>0.0</td>\n",
       "    </tr>\n",
       "    <tr>\n",
       "      <th>lamp</th>\n",
       "      <td>0.0</td>\n",
       "      <td>1.0</td>\n",
       "      <td>1.0</td>\n",
       "      <td>0.0</td>\n",
       "    </tr>\n",
       "    <tr>\n",
       "      <th>started</th>\n",
       "      <td>0.0</td>\n",
       "      <td>0.0</td>\n",
       "      <td>1.0</td>\n",
       "      <td>0.0</td>\n",
       "    </tr>\n",
       "    <tr>\n",
       "      <th>a</th>\n",
       "      <td>0.0</td>\n",
       "      <td>0.0</td>\n",
       "      <td>1.0</td>\n",
       "      <td>0.0</td>\n",
       "    </tr>\n",
       "    <tr>\n",
       "      <th>fire</th>\n",
       "      <td>0.0</td>\n",
       "      <td>0.0</td>\n",
       "      <td>1.0</td>\n",
       "      <td>1.0</td>\n",
       "    </tr>\n",
       "    <tr>\n",
       "      <th>on</th>\n",
       "      <td>0.0</td>\n",
       "      <td>0.0</td>\n",
       "      <td>0.0</td>\n",
       "      <td>1.0</td>\n",
       "    </tr>\n",
       "  </tbody>\n",
       "</table>\n",
       "</div>"
      ],
      "text/plain": [
       "             0    1    2    3\n",
       "the        2.0  1.0  1.0  1.0\n",
       "cow        1.0  1.0  0.0  1.0\n",
       "jumped     1.0  0.0  0.0  0.0\n",
       "over       1.0  0.0  0.0  0.0\n",
       "moon       1.0  0.0  0.0  0.0\n",
       "o'leary's  0.0  1.0  0.0  0.0\n",
       "kicked     0.0  1.0  1.0  0.0\n",
       "lamp       0.0  1.0  1.0  0.0\n",
       "started    0.0  0.0  1.0  0.0\n",
       "a          0.0  0.0  1.0  0.0\n",
       "fire       0.0  0.0  1.0  1.0\n",
       "on         0.0  0.0  0.0  1.0"
      ]
     },
     "execution_count": 17,
     "metadata": {},
     "output_type": "execute_result"
    }
   ],
   "source": [
    "mat, words = term_doc(d1, d2, d3, d4)\n",
    "mat"
   ]
  },
  {
   "cell_type": "code",
   "execution_count": 18,
   "id": "e26ff825",
   "metadata": {},
   "outputs": [],
   "source": [
    "u, s, vt = np.linalg.svd (mat, full_matrices=False)"
   ]
  },
  {
   "cell_type": "code",
   "execution_count": 19,
   "id": "d26c0784",
   "metadata": {},
   "outputs": [
    {
     "data": {
      "text/plain": [
       "(array([[-0.70701377, -0.19127925, -0.05030678, -0.11782658],\n",
       "        [-0.40921666, -0.21126922,  0.07205224,  0.48568274],\n",
       "        [-0.17254364, -0.29470143,  0.04273557, -0.27369126],\n",
       "        [-0.17254364, -0.29470143,  0.04273557, -0.27369126],\n",
       "        [-0.17254364, -0.29470143,  0.04273557, -0.27369126],\n",
       "        [-0.12934189,  0.11257205,  0.4615164 ,  0.31939271],\n",
       "        [-0.25459535,  0.42726345,  0.29642181, -0.01042535],\n",
       "        [-0.25459535,  0.42726345,  0.29642181, -0.01042535],\n",
       "        [-0.12525347,  0.3146914 , -0.16509458, -0.32981806],\n",
       "        [-0.12525347,  0.3146914 , -0.16509458, -0.32981806],\n",
       "        [-0.23258459,  0.28555156, -0.59729432,  0.11016323],\n",
       "        [-0.10733113, -0.02913985, -0.43219973,  0.43998129]]),\n",
       " array([3.6833216 , 2.23942286, 1.52698177, 1.44445626]),\n",
       " array([[-0.63553373, -0.47640777, -0.4613488 , -0.39533505],\n",
       "        [-0.65996111,  0.25209642,  0.70472713, -0.06525644],\n",
       "        [ 0.06525644,  0.70472713, -0.25209642, -0.65996111],\n",
       "        [-0.39533505,  0.4613488 , -0.47640777,  0.63553373]]))"
      ]
     },
     "execution_count": 19,
     "metadata": {},
     "output_type": "execute_result"
    }
   ],
   "source": [
    "u,s,vt"
   ]
  },
  {
   "cell_type": "code",
   "execution_count": 21,
   "id": "ef701ab6",
   "metadata": {},
   "outputs": [],
   "source": [
    "# up, sp, vp = u[:, 9:2], np.diag(s[0:2]), vt[:, 0:2]"
   ]
  },
  {
   "cell_type": "code",
   "execution_count": 29,
   "id": "a5a690e6",
   "metadata": {},
   "outputs": [
    {
     "data": {
      "text/plain": [
       "array([[ 1.93772865,  1.13265482,  0.89955219,  1.0574683 ],\n",
       "       [ 1.27016664,  0.59880611,  0.36195893,  0.62675345],\n",
       "       [ 0.83945179,  0.13639937, -0.17188977,  0.29431547],\n",
       "       [ 0.83945179,  0.13639937, -0.17188977,  0.29431547],\n",
       "       [ 0.83945179,  0.13639937, -0.17188977,  0.29431547],\n",
       "       [ 0.13639937,  0.29051697,  0.39744934,  0.17188977],\n",
       "       [-0.0354904 ,  0.6879663 ,  1.10693237,  0.30828914],\n",
       "       [-0.0354904 ,  0.6879663 ,  1.10693237,  0.30828914],\n",
       "       [-0.17188977,  0.39744934,  0.70948303,  0.13639937],\n",
       "       [-0.17188977,  0.39744934,  0.70948303,  0.13639937],\n",
       "       [ 0.1224257 ,  0.56933911,  0.8458824 ,  0.29694758],\n",
       "       [ 0.29431547,  0.17188977,  0.13639937,  0.16054821]])"
      ]
     },
     "execution_count": 29,
     "metadata": {},
     "output_type": "execute_result"
    }
   ],
   "source": [
    "k = 2\n",
    "up, sp, vp = u[:, :k], np.diag(s[:k]), vt[:k, :]\n",
    "\n",
    "Ap = up @ sp @ vp\n",
    "pd.DataFrame (Ap, index=words)\n",
    "Ap"
   ]
  },
  {
   "cell_type": "code",
   "execution_count": 34,
   "id": "196680cd",
   "metadata": {},
   "outputs": [
    {
     "name": "stdout",
     "output_type": "stream",
     "text": [
      "Similarity between 'the' and 'cow': 0.25799073533786815\n",
      "Similarity between 'on' and 'fire': 0.01855922350290649\n",
      "Similarity between 'over' and 'lamp': -0.002218150305832753\n"
     ]
    }
   ],
   "source": [
    "def sim(w1, w2):\n",
    "    idx_w1 = words.index(w1)\n",
    "    idx_w2 = words.index(w2)\n",
    "\n",
    "    dot = np.dot(Ap[idx_w1], Ap[idx_w2])\n",
    "    div = len(Ap[idx_w1]) * len(Ap[idx_w2])\n",
    "    return dot / div\n",
    "\n",
    "similarity1 = sim('the', 'cow')\n",
    "print(\"Similarity between 'the' and 'cow':\", similarity1)\n",
    "\n",
    "similarity2 = sim('the', 'over')\n",
    "print(\"Similarity between 'the' and 'over':\", similarity2)\n",
    "\n",
    "similarity3 = sim('over', 'lamp')\n",
    "print(\"Similarity between 'over' and 'lamp':\", similarity3)\n"
   ]
  },
  {
   "cell_type": "code",
   "execution_count": null,
   "id": "6ae54f2c",
   "metadata": {},
   "outputs": [],
   "source": []
  }
 ],
 "metadata": {
  "kernelspec": {
   "display_name": "Python 3 (ipykernel)",
   "language": "python",
   "name": "python3"
  },
  "language_info": {
   "codemirror_mode": {
    "name": "ipython",
    "version": 3
   },
   "file_extension": ".py",
   "mimetype": "text/x-python",
   "name": "python",
   "nbconvert_exporter": "python",
   "pygments_lexer": "ipython3",
   "version": "3.9.12"
  }
 },
 "nbformat": 4,
 "nbformat_minor": 5
}
