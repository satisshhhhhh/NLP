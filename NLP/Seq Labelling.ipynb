{
 "cells": [
  {
   "cell_type": "code",
   "execution_count": 1,
   "id": "1d122610",
   "metadata": {},
   "outputs": [],
   "source": [
    "import numpy as np\n",
    "label=['NNP','MD','VB','JJ','NN','RB','DT']\n",
    "words=['Janet','will','back','the','bill']\n",
    "\n",
    "start_seq = np.array([0.2767, 0.0006, 0.0031, 0.0453, 0.0449, 0.0510, 0.2026])\n",
    "\n",
    "transition_probs = np.array([\n",
    "    [0.3777, 0.0110, 0.0009, 0.0084, 0.0584, 0.0090, 0.0025],\n",
    "    [0.0008, 0.0002, 0.7968, 0.0005, 0.0008, 0.1698, 0.0041],\n",
    "    [0.0322, 0.0005, 0.0050, 0.0837, 0.0615, 0.0514, 0.2231],\n",
    "    [0.0366, 0.0004, 0.0001, 0.0733, 0.4509, 0.0036, 0.0036],\n",
    "    [0.0096, 0.0176, 0.0014, 0.0086, 0.1216, 0.0177, 0.0068],\n",
    "    [0.0068, 0.0102, 0.1011, 0.1012, 0.0120, 0.0728, 0.0479],\n",
    "    [0.1147, 0.0021, 0.0002, 0.2157, 0.4744, 0.0102, 0.0017]\n",
    "])\n",
    "\n",
    "transition_probs = np.round(transition_probs, decimals= 2)"
   ]
  },
  {
   "cell_type": "code",
   "execution_count": 2,
   "id": "a1f4389a",
   "metadata": {},
   "outputs": [],
   "source": [
    "observation_probs = np.array([\n",
    "    [0.000032, 0, 0, 0.000048, 0],\n",
    "    [0, 0.308431, 0, 0, 0],\n",
    "    [0, 0.000028, 0.000672, 0, 0.000028],\n",
    "    [0, 0, 0.000340, 0, 0],\n",
    "    [0, 0.000200, 0.000223, 0, 0.002337],\n",
    "    [0, 0, 0.010446, 0, 0],\n",
    "    [0, 0, 0, 0.506099, 0]\n",
    "])"
   ]
  },
  {
   "cell_type": "code",
   "execution_count": 3,
   "id": "68fedca2",
   "metadata": {},
   "outputs": [
    {
     "name": "stdout",
     "output_type": "stream",
     "text": [
      "Observation Probablities\n",
      "[[3.20000e-05 0.00000e+00 0.00000e+00 4.80000e-05 0.00000e+00]\n",
      " [0.00000e+00 3.08431e-01 0.00000e+00 0.00000e+00 0.00000e+00]\n",
      " [0.00000e+00 2.80000e-05 6.72000e-04 0.00000e+00 2.80000e-05]\n",
      " [0.00000e+00 0.00000e+00 3.40000e-04 0.00000e+00 0.00000e+00]\n",
      " [0.00000e+00 2.00000e-04 2.23000e-04 0.00000e+00 2.33700e-03]\n",
      " [0.00000e+00 0.00000e+00 1.04460e-02 0.00000e+00 0.00000e+00]\n",
      " [0.00000e+00 0.00000e+00 0.00000e+00 5.06099e-01 0.00000e+00]]\n",
      "\n",
      "\n",
      "Transistion Probablities\n",
      "[[0.38 0.01 0.   0.01 0.06 0.01 0.  ]\n",
      " [0.   0.   0.8  0.   0.   0.17 0.  ]\n",
      " [0.03 0.   0.   0.08 0.06 0.05 0.22]\n",
      " [0.04 0.   0.   0.07 0.45 0.   0.  ]\n",
      " [0.01 0.02 0.   0.01 0.12 0.02 0.01]\n",
      " [0.01 0.01 0.1  0.1  0.01 0.07 0.05]\n",
      " [0.11 0.   0.   0.22 0.47 0.01 0.  ]]\n",
      "\n",
      "\n",
      " Sentence:  Janet will back the bill\n"
     ]
    }
   ],
   "source": [
    "sentence = \"Janet will back the bill\"\n",
    "\n",
    "print(\"Observation Probablities\")\n",
    "print(observation_probs)\n",
    "\n",
    "print(\"\\n\\nTransistion Probablities\")\n",
    "print(transition_probs)\n",
    "\n",
    "print(\"\\n\\n Sentence: \", sentence)"
   ]
  },
  {
   "cell_type": "code",
   "execution_count": 4,
   "id": "76be0d64",
   "metadata": {},
   "outputs": [],
   "source": [
    "# Define the POS tags\n",
    "tags = ['NNP', 'MD', 'VB', 'JJ', 'NN', 'RB', 'DT']\n",
    "\n",
    "# Initialize the matrices\n",
    "num_words = len(sentence.split())\n",
    "num_tags = len(tags)\n",
    "matrix = np.zeros((num_words, num_tags))\n",
    "backpointer = np.zeros((num_words, num_tags), dtype=int)\n",
    "\n",
    "# Step 1: Compute the initial probabilities\n",
    "for j in range(num_tags):\n",
    "    matrix[0, j] = start_seq[j] * observation_probs[j, 0]  # Multiply by emission probability of Janet\n"
   ]
  },
  {
   "cell_type": "code",
   "execution_count": 8,
   "id": "3d91c400",
   "metadata": {},
   "outputs": [
    {
     "name": "stdout",
     "output_type": "stream",
     "text": [
      "Backpointer[1, 6] = NNP\n",
      "Backpointer[2, 6] = NN\n",
      "Backpointer[3, 6] = VB\n",
      "Backpointer[4, 6] = NNP\n"
     ]
    }
   ],
   "source": [
    "# Step 2: Perform the dynamic programming steps\n",
    "for i in range(1, num_words):\n",
    "    for j in range(num_tags):\n",
    "        max_prob = -1\n",
    "        max_index = -1\n",
    "        for k in range(num_tags):\n",
    "            prob = matrix[i-1, k] * transition_probs[k, j]\n",
    "            if prob > max_prob:\n",
    "                max_prob = prob\n",
    "                max_index = k\n",
    "        matrix[i, j] = max_prob * observation_probs[j, i]\n",
    "        backpointer[i, j] = max_index\n",
    "\n",
    "#     print(matrix)\n",
    "    print(f\"Backpointer[{i}, {j}] = {tags[max_index]}\")"
   ]
  },
  {
   "cell_type": "code",
   "execution_count": 6,
   "id": "fdc38bca",
   "metadata": {},
   "outputs": [
    {
     "data": {
      "text/plain": [
       "array([[8.85440000e-06, 0.00000000e+00, 0.00000000e+00, 0.00000000e+00,\n",
       "        0.00000000e+00, 0.00000000e+00, 0.00000000e+00],\n",
       "       [0.00000000e+00, 2.73097145e-08, 0.00000000e+00, 0.00000000e+00,\n",
       "        1.06252800e-10, 0.00000000e+00, 0.00000000e+00],\n",
       "       [0.00000000e+00, 0.00000000e+00, 1.46817025e-11, 3.61259520e-16,\n",
       "        2.84332493e-15, 4.84971371e-11, 0.00000000e+00],\n",
       "       [2.32786258e-17, 0.00000000e+00, 0.00000000e+00, 0.00000000e+00,\n",
       "        0.00000000e+00, 0.00000000e+00, 1.63468689e-12],\n",
       "       [0.00000000e+00, 0.00000000e+00, 0.00000000e+00, 0.00000000e+00,\n",
       "        1.79552373e-15, 0.00000000e+00, 0.00000000e+00]])"
      ]
     },
     "execution_count": 6,
     "metadata": {},
     "output_type": "execute_result"
    }
   ],
   "source": [
    "# final matrix\n",
    "matrix"
   ]
  },
  {
   "cell_type": "code",
   "execution_count": 7,
   "id": "86c25145",
   "metadata": {},
   "outputs": [
    {
     "name": "stdout",
     "output_type": "stream",
     "text": [
      "\n",
      "Most likely sequence of POS tags:\n",
      "['NNP', 'MD', 'VB', 'DT', 'NN']\n"
     ]
    }
   ],
   "source": [
    "# Step 3: Perform backtracking to find the most likely sequence\n",
    "best_path_prob = np.max(matrix[-1])\n",
    "best_path_end_tag = np.argmax(matrix[-1])\n",
    "best_path = [best_path_end_tag]\n",
    "\n",
    "for i in range(num_words - 1, 0, -1):\n",
    "    best_path_end_tag = backpointer[i, best_path_end_tag]\n",
    "    best_path.insert(0, best_path_end_tag)\n",
    "\n",
    "# Map the tag indices to actual tags\n",
    "best_path_tags = [tags[tag_index] for tag_index in best_path]\n",
    "\n",
    "# Print the most likely sequence of POS tags\n",
    "print(\"\\nMost likely sequence of POS tags:\")\n",
    "print(best_path_tags)"
   ]
  },
  {
   "cell_type": "code",
   "execution_count": null,
   "id": "4ce21f3e",
   "metadata": {},
   "outputs": [],
   "source": []
  }
 ],
 "metadata": {
  "kernelspec": {
   "display_name": "Python 3 (ipykernel)",
   "language": "python",
   "name": "python3"
  },
  "language_info": {
   "codemirror_mode": {
    "name": "ipython",
    "version": 3
   },
   "file_extension": ".py",
   "mimetype": "text/x-python",
   "name": "python",
   "nbconvert_exporter": "python",
   "pygments_lexer": "ipython3",
   "version": "3.9.12"
  }
 },
 "nbformat": 4,
 "nbformat_minor": 5
}
