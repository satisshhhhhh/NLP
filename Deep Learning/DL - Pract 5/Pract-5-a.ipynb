{
 "cells": [
  {
   "cell_type": "code",
   "execution_count": 7,
   "id": "36693028",
   "metadata": {},
   "outputs": [
    {
     "name": "stdout",
     "output_type": "stream",
     "text": [
      "Model: \"sequential_3\"\n",
      "_________________________________________________________________\n",
      " Layer (type)                Output Shape              Param #   \n",
      "=================================================================\n",
      " conv2d_4 (Conv2D)           (None, 28, 28, 32)        2400      \n",
      "                                                                 \n",
      " conv2d_5 (Conv2D)           (None, 28, 28, 17)        4896      \n",
      "                                                                 \n",
      " conv2d_6 (Conv2D)           (None, 28, 28, 13)        1989      \n",
      "                                                                 \n",
      " conv2d_7 (Conv2D)           (None, 28, 28, 7)         819       \n",
      "                                                                 \n",
      "=================================================================\n",
      "Total params: 10,104\n",
      "Trainable params: 10,104\n",
      "Non-trainable params: 0\n",
      "_________________________________________________________________\n",
      "None\n"
     ]
    }
   ],
   "source": [
    "from keras.models import Sequential\n",
    "from keras.layers import Conv2D\n",
    "\n",
    "model = Sequential()\n",
    "model.add(Conv2D(32, input_shape=(28, 28, 3), \n",
    "            kernel_size = (5,5),\n",
    "            padding='same',\n",
    "            use_bias=False))\n",
    "model.add(Conv2D(17, (3, 3), padding = 'same', use_bias=False))\n",
    "model.add(Conv2D(13, (3, 3), padding = 'same', use_bias=False))\n",
    "model.add(Conv2D(7, (3, 3), padding = 'same', use_bias=False))\n",
    "model.compile(loss='catergorical_crossentropy', optimizer='adam')\n",
    "\n",
    "print(model.summary())"
   ]
  },
  {
   "cell_type": "code",
   "execution_count": 8,
   "id": "b8b98ad9",
   "metadata": {},
   "outputs": [
    {
     "name": "stdout",
     "output_type": "stream",
     "text": [
      "Model: \"sequential_4\"\n",
      "_________________________________________________________________\n",
      " Layer (type)                Output Shape              Param #   \n",
      "=================================================================\n",
      " conv2d_8 (Conv2D)           (None, 28, 28, 32)        2432      \n",
      "                                                                 \n",
      " conv2d_9 (Conv2D)           (None, 28, 28, 17)        4913      \n",
      "                                                                 \n",
      " conv2d_10 (Conv2D)          (None, 28, 28, 13)        2002      \n",
      "                                                                 \n",
      " conv2d_11 (Conv2D)          (None, 28, 28, 7)         826       \n",
      "                                                                 \n",
      "=================================================================\n",
      "Total params: 10,173\n",
      "Trainable params: 10,173\n",
      "Non-trainable params: 0\n",
      "_________________________________________________________________\n",
      "None\n"
     ]
    }
   ],
   "source": [
    "model = Sequential()\n",
    "model.add(Conv2D(32, input_shape=(28, 28, 3), \n",
    "            kernel_size = (5,5),\n",
    "            padding='same',\n",
    "            use_bias=True))\n",
    "model.add(Conv2D(17, (3, 3), padding = 'same', use_bias=True))\n",
    "model.add(Conv2D(13, (3, 3), padding = 'same', use_bias=True))\n",
    "model.add(Conv2D(7, (3, 3), padding = 'same', use_bias=True))\n",
    "model.compile(loss='catergorical_crossentropy', optimizer='adam')\n",
    "\n",
    "print(model.summary())"
   ]
  },
  {
   "cell_type": "code",
   "execution_count": 10,
   "id": "61747218",
   "metadata": {},
   "outputs": [
    {
     "name": "stdout",
     "output_type": "stream",
     "text": [
      "Model: \"sequential_6\"\n",
      "_________________________________________________________________\n",
      " Layer (type)                Output Shape              Param #   \n",
      "=================================================================\n",
      " conv2d_16 (Conv2D)          (None, 24, 24, 123)       9348      \n",
      "                                                                 \n",
      " conv2d_17 (Conv2D)          (None, 22, 22, 173)       191684    \n",
      "                                                                 \n",
      " conv2d_18 (Conv2D)          (None, 20, 20, 137)       213446    \n",
      "                                                                 \n",
      " conv2d_19 (Conv2D)          (None, 18, 18, 73)        90082     \n",
      "                                                                 \n",
      "=================================================================\n",
      "Total params: 504,560\n",
      "Trainable params: 504,560\n",
      "Non-trainable params: 0\n",
      "_________________________________________________________________\n",
      "None\n"
     ]
    }
   ],
   "source": [
    "model = Sequential()\n",
    "model.add(Conv2D(123, input_shape=(28, 28, 3), \n",
    "            kernel_size = (5,5),\n",
    "            padding='valid',\n",
    "            use_bias=True))\n",
    "model.add(Conv2D(173, (3, 3), padding = 'valid', use_bias=True))\n",
    "model.add(Conv2D(137, (3, 3), padding = 'valid', use_bias=True))\n",
    "model.add(Conv2D(73, (3, 3), padding = 'valid', use_bias=True))\n",
    "model.compile(loss='catergorical_crossentropy', optimizer='adam')\n",
    "\n",
    "print(model.summary())"
   ]
  },
  {
   "cell_type": "code",
   "execution_count": 11,
   "id": "5babd5ad",
   "metadata": {},
   "outputs": [
    {
     "name": "stdout",
     "output_type": "stream",
     "text": [
      "Model: \"sequential_7\"\n",
      "_________________________________________________________________\n",
      " Layer (type)                Output Shape              Param #   \n",
      "=================================================================\n",
      " conv2d_20 (Conv2D)          (None, 28, 28, 32)        2400      \n",
      "                                                                 \n",
      " conv2d_21 (Conv2D)          (None, 28, 28, 17)        4896      \n",
      "                                                                 \n",
      " conv2d_22 (Conv2D)          (None, 28, 28, 13)        1989      \n",
      "                                                                 \n",
      " conv2d_23 (Conv2D)          (None, 28, 28, 7)         819       \n",
      "                                                                 \n",
      "=================================================================\n",
      "Total params: 10,104\n",
      "Trainable params: 10,104\n",
      "Non-trainable params: 0\n",
      "_________________________________________________________________\n",
      "None\n"
     ]
    }
   ],
   "source": [
    "from keras.models import Sequential\n",
    "from keras.layers import Conv2D\n",
    "\n",
    "model = Sequential()\n",
    "model.add(Conv2D(32, input_shape=(28, 28, 3), \n",
    "                 kernel_size=(5, 5),\n",
    "                 padding='same',\n",
    "                 activation='relu',  # Changed activation function\n",
    "                 use_bias=False))\n",
    "model.add(Conv2D(17, (3, 3), padding='same', activation='relu', use_bias=False))\n",
    "model.add(Conv2D(13, (3, 3), padding='same', activation='relu', use_bias=False))\n",
    "model.add(Conv2D(7, (3, 3), padding='same', activation='relu', use_bias=False))\n",
    "model.compile(loss='categorical_crossentropy', optimizer='adam')\n",
    "\n",
    "print(model.summary())"
   ]
  },
  {
   "cell_type": "code",
   "execution_count": 12,
   "id": "b5493fd0",
   "metadata": {},
   "outputs": [
    {
     "name": "stdout",
     "output_type": "stream",
     "text": [
      "Model: \"sequential_8\"\n",
      "_________________________________________________________________\n",
      " Layer (type)                Output Shape              Param #   \n",
      "=================================================================\n",
      " conv2d_24 (Conv2D)          (None, 28, 28, 32)        2400      \n",
      "                                                                 \n",
      " max_pooling2d (MaxPooling2D  (None, 14, 14, 32)       0         \n",
      " )                                                               \n",
      "                                                                 \n",
      " conv2d_25 (Conv2D)          (None, 14, 14, 17)        4896      \n",
      "                                                                 \n",
      " conv2d_26 (Conv2D)          (None, 14, 14, 13)        1989      \n",
      "                                                                 \n",
      " max_pooling2d_1 (MaxPooling  (None, 7, 7, 13)         0         \n",
      " 2D)                                                             \n",
      "                                                                 \n",
      " conv2d_27 (Conv2D)          (None, 7, 7, 7)           819       \n",
      "                                                                 \n",
      "=================================================================\n",
      "Total params: 10,104\n",
      "Trainable params: 10,104\n",
      "Non-trainable params: 0\n",
      "_________________________________________________________________\n",
      "None\n"
     ]
    }
   ],
   "source": [
    "from keras.models import Sequential\n",
    "from keras.layers import Conv2D, MaxPooling2D\n",
    "\n",
    "model = Sequential()\n",
    "model.add(Conv2D(32, input_shape=(28, 28, 3), \n",
    "                 kernel_size=(5, 5),\n",
    "                 padding='same',\n",
    "                 use_bias=False))\n",
    "model.add(MaxPooling2D(pool_size=(2, 2)))  # Adding MaxPooling layer\n",
    "model.add(Conv2D(17, (3, 3), padding='same', use_bias=False))\n",
    "model.add(Conv2D(13, (3, 3), padding='same', use_bias=False))\n",
    "model.add(MaxPooling2D(pool_size=(2, 2)))  # Adding MaxPooling layer\n",
    "model.add(Conv2D(7, (3, 3), padding='same', use_bias=False))\n",
    "model.compile(loss='categorical_crossentropy', optimizer='adam')\n",
    "\n",
    "print(model.summary())\n"
   ]
  },
  {
   "cell_type": "code",
   "execution_count": 13,
   "id": "9de97a87",
   "metadata": {},
   "outputs": [
    {
     "name": "stdout",
     "output_type": "stream",
     "text": [
      "Model: \"sequential_9\"\n",
      "_________________________________________________________________\n",
      " Layer (type)                Output Shape              Param #   \n",
      "=================================================================\n",
      " conv2d_28 (Conv2D)          (None, 28, 28, 32)        864       \n",
      "                                                                 \n",
      " conv2d_29 (Conv2D)          (None, 28, 28, 17)        13600     \n",
      "                                                                 \n",
      " conv2d_30 (Conv2D)          (None, 28, 28, 13)        1989      \n",
      "                                                                 \n",
      " conv2d_31 (Conv2D)          (None, 28, 28, 7)         819       \n",
      "                                                                 \n",
      "=================================================================\n",
      "Total params: 17,272\n",
      "Trainable params: 17,272\n",
      "Non-trainable params: 0\n",
      "_________________________________________________________________\n",
      "None\n"
     ]
    }
   ],
   "source": [
    "from keras.models import Sequential\n",
    "from keras.layers import Conv2D\n",
    "\n",
    "model = Sequential()\n",
    "model.add(Conv2D(32, input_shape=(28, 28, 3), \n",
    "                 kernel_size=(3, 3),  # Changed kernel size\n",
    "                 padding='same',\n",
    "                 use_bias=False))\n",
    "model.add(Conv2D(17, (5, 5), padding='same', use_bias=False))  # Changed kernel size\n",
    "model.add(Conv2D(13, (3, 3), padding='same', use_bias=False))\n",
    "model.add(Conv2D(7, (3, 3), padding='same', use_bias=False))\n",
    "model.compile(loss='categorical_crossentropy', optimizer='adam')\n",
    "\n",
    "print(model.summary())\n"
   ]
  },
  {
   "cell_type": "code",
   "execution_count": 14,
   "id": "5e15bec6",
   "metadata": {},
   "outputs": [
    {
     "name": "stdout",
     "output_type": "stream",
     "text": [
      "Model: \"sequential_10\"\n",
      "_________________________________________________________________\n",
      " Layer (type)                Output Shape              Param #   \n",
      "=================================================================\n",
      " conv2d_32 (Conv2D)          (None, 28, 28, 32)        2400      \n",
      "                                                                 \n",
      " conv2d_33 (Conv2D)          (None, 28, 28, 17)        4896      \n",
      "                                                                 \n",
      " conv2d_34 (Conv2D)          (None, 28, 28, 13)        1989      \n",
      "                                                                 \n",
      " conv2d_35 (Conv2D)          (None, 28, 28, 7)         819       \n",
      "                                                                 \n",
      "=================================================================\n",
      "Total params: 10,104\n",
      "Trainable params: 10,104\n",
      "Non-trainable params: 0\n",
      "_________________________________________________________________\n",
      "None\n"
     ]
    }
   ],
   "source": [
    "from keras.models import Sequential\n",
    "from keras.layers import Conv2D\n",
    "\n",
    "model = Sequential()\n",
    "model.add(Conv2D(32, input_shape=(28, 28, 3), \n",
    "                 kernel_size=(5, 5),\n",
    "                 padding='same',\n",
    "                 use_bias=False))\n",
    "model.add(Conv2D(17, (3, 3), padding='same', use_bias=False))\n",
    "model.add(Conv2D(13, (3, 3), padding='same', use_bias=False))\n",
    "model.add(Conv2D(7, (3, 3), padding='same', use_bias=False))\n",
    "model.compile(loss='categorical_crossentropy', optimizer='sgd')  # Changed optimizer to SGD\n",
    "\n",
    "print(model.summary())\n"
   ]
  },
  {
   "cell_type": "code",
   "execution_count": 15,
   "id": "14f3946a",
   "metadata": {},
   "outputs": [
    {
     "name": "stdout",
     "output_type": "stream",
     "text": [
      "Model: \"sequential_11\"\n",
      "_________________________________________________________________\n",
      " Layer (type)                Output Shape              Param #   \n",
      "=================================================================\n",
      " conv2d_36 (Conv2D)          (None, 28, 28, 32)        2400      \n",
      "                                                                 \n",
      " dropout (Dropout)           (None, 28, 28, 32)        0         \n",
      "                                                                 \n",
      " conv2d_37 (Conv2D)          (None, 28, 28, 17)        4896      \n",
      "                                                                 \n",
      " dropout_1 (Dropout)         (None, 28, 28, 17)        0         \n",
      "                                                                 \n",
      " conv2d_38 (Conv2D)          (None, 28, 28, 13)        1989      \n",
      "                                                                 \n",
      " dropout_2 (Dropout)         (None, 28, 28, 13)        0         \n",
      "                                                                 \n",
      " conv2d_39 (Conv2D)          (None, 28, 28, 7)         819       \n",
      "                                                                 \n",
      " dropout_3 (Dropout)         (None, 28, 28, 7)         0         \n",
      "                                                                 \n",
      "=================================================================\n",
      "Total params: 10,104\n",
      "Trainable params: 10,104\n",
      "Non-trainable params: 0\n",
      "_________________________________________________________________\n",
      "None\n"
     ]
    }
   ],
   "source": [
    "from keras.models import Sequential\n",
    "from keras.layers import Conv2D, Dropout\n",
    "\n",
    "model = Sequential()\n",
    "model.add(Conv2D(32, input_shape=(28, 28, 3), \n",
    "                 kernel_size=(5, 5),\n",
    "                 padding='same',\n",
    "                 use_bias=False))\n",
    "model.add(Dropout(0.25))  # Adding Dropout layer\n",
    "model.add(Conv2D(17, (3, 3), padding='same', use_bias=False))\n",
    "model.add(Dropout(0.25))  # Adding Dropout layer\n",
    "model.add(Conv2D(13, (3, 3), padding='same', use_bias=False))\n",
    "model.add(Dropout(0.25))  # Adding Dropout layer\n",
    "model.add(Conv2D(7, (3, 3), padding='same', use_bias=False))\n",
    "model.add(Dropout(0.25))  # Adding Dropout layer\n",
    "model.compile(loss='categorical_crossentropy', optimizer='adam')\n",
    "\n",
    "print(model.summary())\n"
   ]
  },
  {
   "cell_type": "code",
   "execution_count": null,
   "id": "dbb083ec",
   "metadata": {},
   "outputs": [],
   "source": []
  }
 ],
 "metadata": {
  "kernelspec": {
   "display_name": "Python 3 (ipykernel)",
   "language": "python",
   "name": "python3"
  },
  "language_info": {
   "codemirror_mode": {
    "name": "ipython",
    "version": 3
   },
   "file_extension": ".py",
   "mimetype": "text/x-python",
   "name": "python",
   "nbconvert_exporter": "python",
   "pygments_lexer": "ipython3",
   "version": "3.9.12"
  }
 },
 "nbformat": 4,
 "nbformat_minor": 5
}
