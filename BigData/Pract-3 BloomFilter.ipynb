{
 "cells": [
  {
   "cell_type": "markdown",
   "id": "489158a9",
   "metadata": {},
   "source": [
    "## Bloom Filter"
   ]
  },
  {
   "cell_type": "code",
   "execution_count": 17,
   "id": "0e9235b2",
   "metadata": {},
   "outputs": [
    {
     "name": "stdout",
     "output_type": "stream",
     "text": [
      "Enter total number of elements: 5\n",
      "Enter element at 1 -> 1\n",
      "Enter element at 2 -> 2\n",
      "Enter element at 3 -> 3\n",
      "Enter element at 4 -> 4\n",
      "Enter element at 5 -> 8\n"
     ]
    }
   ],
   "source": [
    "import numpy as np\n",
    "\n",
    "def hash1(num):\n",
    "    return (num+1) % 19\n",
    "\n",
    "def hash2(num):\n",
    "    return (num**2) % 17\n",
    "\n",
    "def hash3(num):\n",
    "    return (num + 3) % 23\n",
    "    \n",
    "tot_elements = int(input(\"Enter total number of elements: \"))\n",
    "bit_vector = np.zeros(100)\n",
    "\n",
    "for i in range(1, tot_elements+1):\n",
    "    num = (int(input(f\"Enter element at {i} -> \")))\n",
    "    H_1 = hash1(num)\n",
    "    H_2 = hash2(num)\n",
    "    H_3 = hash3(num)\n",
    "    \n",
    "    bit_vector[H_1] = 1\n",
    "    bit_vector[H_2] = 1\n",
    "    bit_vector[H_3] = 1"
   ]
  },
  {
   "cell_type": "code",
   "execution_count": 18,
   "id": "4bad134e",
   "metadata": {},
   "outputs": [
    {
     "name": "stdout",
     "output_type": "stream",
     "text": [
      "Enter the element to find: 8\n",
      "Element present\n"
     ]
    }
   ],
   "source": [
    "ele = int(input(\"Enter the element to find: \"))\n",
    "\n",
    "# verifying....\n",
    "H_1 = hash1(ele)\n",
    "H_2 = hash2(ele)\n",
    "H_3 = hash3(ele)\n",
    "\n",
    "if (bit_vector[H_1] == 1 and bit_vector[H_2] == 1 and bit_vector[H_3] == 1):\n",
    "    print(\"Element present\")\n",
    "else:\n",
    "    print(\"Not Present\")"
   ]
  },
  {
   "cell_type": "code",
   "execution_count": null,
   "id": "03919161",
   "metadata": {},
   "outputs": [],
   "source": []
  }
 ],
 "metadata": {
  "kernelspec": {
   "display_name": "Python 3 (ipykernel)",
   "language": "python",
   "name": "python3"
  },
  "language_info": {
   "codemirror_mode": {
    "name": "ipython",
    "version": 3
   },
   "file_extension": ".py",
   "mimetype": "text/x-python",
   "name": "python",
   "nbconvert_exporter": "python",
   "pygments_lexer": "ipython3",
   "version": "3.9.12"
  }
 },
 "nbformat": 4,
 "nbformat_minor": 5
}
